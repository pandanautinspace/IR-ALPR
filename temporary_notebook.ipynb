{
 "cells": [
  {
   "cell_type": "code",
   "execution_count": 1,
   "metadata": {},
   "outputs": [
    {
     "name": "stdout",
     "output_type": "stream",
     "text": [
      "Files have been successfully organized.\n"
     ]
    }
   ],
   "source": [
    "import os\n",
    "import shutil\n",
    "\n",
    "# Define the source directory and target directories\n",
    "source_dir = \"./validation\"\n",
    "xml_target_dir = os.path.join(source_dir, \"XML\")\n",
    "img_target_dir = os.path.join(source_dir, \"Images\")\n",
    "\n",
    "# Create target directories if they don't exist\n",
    "os.makedirs(xml_target_dir, exist_ok=True)\n",
    "os.makedirs(img_target_dir, exist_ok=True)\n",
    "\n",
    "# Iterate through files in the source directory\n",
    "for filename in os.listdir(source_dir):\n",
    "    if filename.endswith(\".xml\"):\n",
    "        shutil.move(os.path.join(source_dir, filename), xml_target_dir)\n",
    "    elif filename.endswith(\".jpg\"):\n",
    "        shutil.move(os.path.join(source_dir, filename), img_target_dir)\n",
    "\n",
    "print(\"Files have been successfully organized.\")\n"
   ]
  },
  {
   "cell_type": "code",
   "execution_count": null,
   "metadata": {},
   "outputs": [],
   "source": []
  }
 ],
 "metadata": {
  "kernelspec": {
   "display_name": "new_venv",
   "language": "python",
   "name": "python3"
  },
  "language_info": {
   "codemirror_mode": {
    "name": "ipython",
    "version": 3
   },
   "file_extension": ".py",
   "mimetype": "text/x-python",
   "name": "python",
   "nbconvert_exporter": "python",
   "pygments_lexer": "ipython3",
   "version": "3.12.3"
  }
 },
 "nbformat": 4,
 "nbformat_minor": 2
}
