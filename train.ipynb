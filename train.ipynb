{
 "cells": [
  {
   "cell_type": "code",
   "execution_count": 1,
   "metadata": {},
   "outputs": [],
   "source": [
    "import os\n",
    "import xml.etree.ElementTree as ET\n",
    "\n",
    "def get_bbs(xml_path):\n",
    "  tree = ET.parse(xml_path)\n",
    "  root = tree.getroot()\n",
    "  for obj in root.iter(\"object\"):\n",
    "      # Filter only objects with the name \"کل ناحیه پلاک\"\n",
    "      cls = obj.find(\"name\").text\n",
    "      if cls != \"کل ناحیه پلاک\":\n",
    "          continue  # Skip objects that do not match the desired class\n",
    "\n",
    "      xmlbox = obj.find(\"bndbox\")\n",
    "      if xmlbox is not None:\n",
    "          try:\n",
    "              box = (\n",
    "                  float(xmlbox.find(\"xmin\").text),\n",
    "                  float(xmlbox.find(\"xmax\").text),\n",
    "                  float(xmlbox.find(\"ymin\").text),\n",
    "                  float(xmlbox.find(\"ymax\").text)\n",
    "              )\n",
    "              bbox_pil = (\n",
    "                box[0],\n",
    "                box[2],\n",
    "                box[1],\n",
    "                box[3]\n",
    "              )\n",
    "              return bbox_pil\n",
    "          except (ValueError, AttributeError) as e:\n",
    "              print(f\"Error processing bounding box in {xml_path}: {e}\")\n",
    "              continue\n",
    "      else:\n",
    "          print(f\"Warning: <bndbox> element not found in {xml_path}. Skipping this object.\")\n",
    "\n",
    "def get_all_bbs(xml_dir):\n",
    "    bbs_dict = {}\n",
    "    for xml_file in os.listdir(xml_dir):\n",
    "      if xml_file.endswith(\".xml\"):\n",
    "          image_name = xml_file.replace(\".xml\", \"\")\n",
    "\n",
    "          bbs_dict[image_name] = get_bbs(os.path.join(xml_dir, xml_file))\n",
    "\n",
    "    return bbs_dict"
   ]
  },
  {
   "cell_type": "code",
   "execution_count": 2,
   "metadata": {},
   "outputs": [],
   "source": [
    "# from multiprocessing import Pool\n",
    "# from functools import partial\n",
    "# from torch.utils.data import Dataset\n",
    "# from torchvision.transforms import v2\n",
    "# import torch.nn.functional as F\n",
    "# import torch\n",
    "# import pandas as pd\n",
    "# import os\n",
    "# from PIL import Image\n",
    "\n",
    "# train_folder = '../dataset/dataset/images/train'\n",
    "# test_folder = '../dataset/dataset/images/val'\n",
    "# xml_train_folder = '../dataset/dataset/xmls/'\n",
    "# string_plate = '../dataset/dataset/string_plate2.csv'\n",
    "\n",
    "# class LicensePlateCharDataset(Dataset):\n",
    "#     def __init__(self, train=True, test=False, transforms=None, pre_cache=False, num_workers=None, classes=None):\n",
    "#         _df = pd.read_csv(string_plate)\n",
    "#         if test:\n",
    "#             train=False\n",
    "#         self.train = train\n",
    "#         self.df = _df[~_df['plateString'].str.contains(' ', na=True)]\n",
    "#         self.df = self.df[self.df['plateString'].str.len().eq(8)]\n",
    "#         self.df = self.df[self.df['plateString'].str.match(r'^\\d{2}[^0-9]')]\n",
    "#         self.names_list = []\n",
    "\n",
    "#         self.folder_name = train_folder if train else test_folder\n",
    "\n",
    "#         for img in os.listdir(self.folder_name):\n",
    "#             if img.endswith('.jpg'):\n",
    "#                 self.names_list.append(img.removesuffix(\".jpg\"))\n",
    "        \n",
    "#         self.df = self.df[self.df['nameOfTheFile'].isin(self.names_list)]\n",
    "        \n",
    "#         self.df = self.df.reset_index(drop=True)\n",
    "#         self.bbs = get_all_bbs(xml_train_folder)\n",
    "#         self.transform = v2.Compose([\n",
    "#                             v2.PILToTensor(),\n",
    "#                             v2.ToDtype(torch.float32, scale=True),\n",
    "#                         ])\n",
    "\n",
    "#         self.cached = pre_cache\n",
    "#         self.cache = [None for x in range(len(self.df))]\n",
    "#         self.classes = list(set(self.df['plateString'].apply(list).sum()))\n",
    "#         if classes is not None:\n",
    "#             self.classes = classes\n",
    "#         self.ords = {c: i+1 for i, c in enumerate(self.classes)}\n",
    "#         # print(self.ords)\n",
    "#         if pre_cache:\n",
    "#             pool = Pool()\n",
    "#             if num_workers is not None:\n",
    "#                 pool = Pool(num_workers)\n",
    "#             lbl = partial(self._get_im_label, return_idx=True)\n",
    "#             m = pool.map(lbl, range(len(self.df)))\n",
    "#             for i, r in m:\n",
    "#                 self.cache[i] = r\n",
    "\n",
    "\n",
    "#     def __len__(self):\n",
    "#         return len(self.df)\n",
    "    \n",
    "#     def _get_im_label(self, idx, return_idx=False):\n",
    "#         row = self.df.iloc[idx]\n",
    "#         image_name = row['nameOfTheFile']\n",
    "#         image_path = os.path.join(self.folder_name, image_name + '.jpg')\n",
    "#         bb = self.bbs[image_name]\n",
    "#         im = Image.open(image_path).crop(bb).convert('L').resize((200,50))\n",
    "#         label = row['plateString']\n",
    "#         label_t = torch.tensor([self.ords[c] for c in label])\n",
    "#         label_t = F.pad(label_t, (0, 8 - label_t.shape[0]),'constant',0)\n",
    "#         if return_idx:\n",
    "#             return idx, (self.transform(im), label_t)\n",
    "#         return self.transform(im), label_t\n",
    "\n",
    "#     def __getitem__(self, idx):\n",
    "#         if not self.cached and self.cache[idx] is None:\n",
    "#             self.cache[idx] = self.__get_im_label(idx)\n",
    "#         return self.cache[idx]\n",
    "        "
   ]
  },
  {
   "cell_type": "code",
   "execution_count": 3,
   "metadata": {},
   "outputs": [],
   "source": [
    "from multiprocessing import Pool\n",
    "from functools import partial\n",
    "from torch.utils.data import Dataset\n",
    "from torchvision.transforms import v2\n",
    "import torch.nn.functional as F\n",
    "import torch\n",
    "import pandas as pd\n",
    "import os\n",
    "from PIL import Image\n",
    "\n",
    "train_folder = '/home/infres/lotfi-23/train/Image'\n",
    "test_folder = '/home/infres/lotfi-23/validation/Images'\n",
    "xml_train_folder = '/home/infres/lotfi-23/train/XML_train_val/'\n",
    "string_plate = '/home/infres/lotfi-23/train/string_plate2.csv'\n",
    "\n",
    "\n",
    "class LicensePlateCharDataset(Dataset):\n",
    "    def __init__(self, train=True, test=False, transforms=None, pre_cache=False, num_workers=None, classes=None):\n",
    "        _df = pd.read_csv(string_plate)\n",
    "        if test:\n",
    "            train = False\n",
    "        self.train = train\n",
    "        self.df = _df[~_df['plateString'].str.contains(' ', na=True)]\n",
    "        self.df = self.df[self.df['plateString'].str.len().eq(8)]\n",
    "        self.df = self.df[self.df['plateString'].str.match(r'^\\d{2}[^0-9]')]\n",
    "        self.names_list = []\n",
    "\n",
    "        self.folder_name = train_folder if train else test_folder\n",
    "\n",
    "        for img in os.listdir(self.folder_name):\n",
    "            if img.endswith('.jpg'):\n",
    "                self.names_list.append(img.removesuffix(\".jpg\"))\n",
    "\n",
    "        # Filter DataFrame for images in the directory\n",
    "        self.df = self.df[self.df['nameOfTheFile'].isin(self.names_list)]\n",
    "        self.df = self.df.reset_index(drop=True)\n",
    "\n",
    "        # Load bounding boxes for \"کل ناحیه پلاک\"\n",
    "        self.bbs = get_all_bbs(xml_train_folder)\n",
    "\n",
    "        # Define transforms\n",
    "        self.transform = v2.Compose([\n",
    "            v2.PILToTensor(),\n",
    "            v2.ToDtype(torch.float32, scale=True),\n",
    "        ])\n",
    "\n",
    "        # Pre-caching setup\n",
    "        self.cached = pre_cache\n",
    "        self.cache = [None for _ in range(len(self.df))]\n",
    "\n",
    "        # Define character classes\n",
    "        self.classes = list(set(self.df['plateString'].apply(list).sum()))\n",
    "        if classes is not None:\n",
    "            self.classes = classes\n",
    "        self.ords = {c: i + 1 for i, c in enumerate(self.classes)}\n",
    "\n",
    "        if pre_cache:\n",
    "            pool = Pool()\n",
    "            if num_workers is not None:\n",
    "                pool = Pool(num_workers)\n",
    "            lbl = partial(self._get_im_label, return_idx=True)\n",
    "            m = pool.map(lbl, range(len(self.df)))\n",
    "            for i, r in m:\n",
    "                self.cache[i] = r\n",
    "\n",
    "    def __len__(self):\n",
    "        return len(self.df)\n",
    "\n",
    "    def _get_im_label(self, idx, return_idx=False):\n",
    "        row = self.df.iloc[idx]\n",
    "        image_name = row['nameOfTheFile']\n",
    "        image_path = os.path.join(self.folder_name, image_name + '.jpg')\n",
    "\n",
    "        # Check for bounding box for \"کل ناحیه پلاک\"\n",
    "        bb = self.bbs.get(image_name)\n",
    "\n",
    "        if bb is not None:  # If bounding box exists\n",
    "            # Process the plate region using the bounding box\n",
    "            im = Image.open(image_path).crop(bb).convert('L').resize((200, 50))\n",
    "        else:  # If no bounding box exists, process the image directly\n",
    "            im = Image.open(image_path).convert('L').resize((200, 50))\n",
    "\n",
    "        # Transform the image\n",
    "        plate_tensor = self.transform(im)\n",
    "\n",
    "        # Prepare the label\n",
    "        label = row['plateString']\n",
    "        label_t = torch.tensor([self.ords[c] for c in label])\n",
    "        label_t = F.pad(label_t, (0, 8 - label_t.shape[0]), 'constant', 0)\n",
    "\n",
    "        if return_idx:\n",
    "            return idx, (plate_tensor, label_t)\n",
    "        return plate_tensor, label_t\n",
    "\n",
    "    def __getitem__(self, idx):\n",
    "        if not self.cached and self.cache[idx] is None:\n",
    "            self.cache[idx] = self._get_im_label(idx)\n",
    "        return self.cache[idx]"
   ]
  },
  {
   "cell_type": "code",
   "execution_count": 4,
   "metadata": {},
   "outputs": [],
   "source": [
    "#verify lengths\n",
    "# d = LicensePlateCharDataset()\n",
    "# lens = []\n",
    "# print(len(d))\n",
    "# # for data in d:\n",
    "# #     lens.append(len(data[1]))\n"
   ]
  },
  {
   "cell_type": "code",
   "execution_count": 5,
   "metadata": {},
   "outputs": [],
   "source": [
    "# for i, l in enumerate(lens):\n",
    "#     if l != 8:\n",
    "#         print(i, l, ''.join(chr(g) for g in d[i][1]))\n",
    "#         print(d.df.iloc[i])"
   ]
  },
  {
   "cell_type": "code",
   "execution_count": 6,
   "metadata": {},
   "outputs": [],
   "source": [
    "import torch.nn as nn\n",
    "import torch.nn.functional as F\n",
    "import torch.nn.init as init\n",
    "\n",
    "class CNN(nn.Module):\n",
    "    def __init__(self, in_size=(200,50,1), conv_out_1=32, conv_kern_1=3, conv_out_2 = 64, conv_kern_2 = 3, fc1_out=64, lstm1_out=128, lstm2_out=64, fc2_out=38):\n",
    "        super(CNN, self).__init__()\n",
    "        w, h, c = in_size\n",
    "        \n",
    "        self.conv1 = nn.Conv2d(\n",
    "            in_channels=c,\n",
    "            out_channels=conv_out_1,\n",
    "            kernel_size=conv_kern_1,\n",
    "            padding='same'\n",
    "        )\n",
    "\n",
    "        self.conv2 = nn.Conv2d(\n",
    "            in_channels=conv_out_1,\n",
    "            out_channels=conv_out_2,\n",
    "            kernel_size=conv_kern_2,\n",
    "            padding='same'\n",
    "        )\n",
    "\n",
    "        self.fc1 = nn.Linear(\n",
    "            in_features=conv_out_2,\n",
    "            out_features=fc1_out\n",
    "        )\n",
    "\n",
    "        self.lstm1 = nn.LSTM(\n",
    "            input_size=fc1_out * (h // 4),\n",
    "            hidden_size=lstm1_out,\n",
    "            bidirectional=True,\n",
    "            batch_first=True\n",
    "        )\n",
    "\n",
    "        self.lstm2 = nn.LSTM(\n",
    "            input_size=lstm1_out * 2,\n",
    "            hidden_size=lstm2_out,\n",
    "            bidirectional=True,\n",
    "            batch_first=True\n",
    "        )\n",
    "\n",
    "        self.fc2 = nn.Linear(\n",
    "            in_features=lstm2_out * 2,\n",
    "            out_features=fc2_out\n",
    "        )\n",
    "\n",
    "        # Apply He initialization\n",
    "        self._initialize_weights()\n",
    "\n",
    "    def _initialize_weights(self):\n",
    "        # He initialization to convolutional and fully connected layers\n",
    "        for m in self.modules():\n",
    "            if isinstance(m, nn.Conv2d):\n",
    "                init.kaiming_normal_(m.weight, mode='fan_out', nonlinearity='relu')\n",
    "                if m.bias is not None:\n",
    "                    nn.init.zeros_(m.bias)\n",
    "            elif isinstance(m, nn.Linear):\n",
    "                init.kaiming_normal_(m.weight, mode='fan_in', nonlinearity='relu')\n",
    "                if m.bias is not None:\n",
    "                    nn.init.zeros_(m.bias)\n",
    "\n",
    "\n",
    "    def forward(self, x):\n",
    "        batch_size, c, h, w = x.shape\n",
    "        x = self.conv1(x)\n",
    "        x = F.relu(x)\n",
    "        x = F.max_pool2d(x, kernel_size=2, stride=2)\n",
    "        x = self.conv2(x)\n",
    "        x = F.relu(x)\n",
    "        x = F.max_pool2d(x, kernel_size=2, stride=2)\n",
    "        x = x.permute(0, 3, 2, 1)\n",
    "        x = self.fc1(x)\n",
    "        x = F.relu(x)\n",
    "        x = F.dropout(x, p=0.2)\n",
    "        # Now x is (N, W//4, H//4, fc1_out), after fc1 it's (N, W//4, H//4, fc1_out)\n",
    "        # Reshape to (N, T, C)\n",
    "        # T = W//4, C = fc1_out * (H//4)\n",
    "        # h//4 = 50/4 = 12 (if h=50), w//4 = 200/4=50 steps\n",
    "        # Make sure dimensions match what you expect.\n",
    "        x = x.reshape(batch_size, w // 4, -1)  # (N, T=50, fc1_out*(H//4))\n",
    "        x, _ = self.lstm1(x)\n",
    "        x = F.dropout(x, p=0.25)\n",
    "        x, _ = self.lstm2(x)\n",
    "        x = F.dropout(x, p=0.25)\n",
    "        x = self.fc2(x)\n",
    "        x = F.log_softmax(x, dim=-1)\n",
    "        # CTC expects (T, N, C), so permute:\n",
    "        x = x.permute(1, 0, 2)\n",
    "        return x\n"
   ]
  },
  {
   "cell_type": "code",
   "execution_count": 7,
   "metadata": {},
   "outputs": [],
   "source": [
    "import torch\n",
    "from torch.utils.data import DataLoader"
   ]
  },
  {
   "cell_type": "code",
   "execution_count": 8,
   "metadata": {},
   "outputs": [],
   "source": [
    "import json\n",
    "# # Save the class mapping\n",
    "# with open(\"classes.json\", \"w\") as f:\n",
    "#     json.dump(training_data.classes, f)\n",
    "\n",
    "# Load it during inference\n",
    "with open(\"classes.json\", \"r\") as f:\n",
    "    classes = json.load(f)"
   ]
  },
  {
   "cell_type": "code",
   "execution_count": 9,
   "metadata": {},
   "outputs": [
    {
     "name": "stdout",
     "output_type": "stream",
     "text": [
      "Loaded dataset\n",
      "Loaded dataloader\n"
     ]
    }
   ],
   "source": [
    "training_data = LicensePlateCharDataset(pre_cache=True, classes=classes)\n",
    "print(\"Loaded dataset\")\n",
    "train_dataloader = DataLoader(training_data, batch_size=96, shuffle=True)\n",
    "print(\"Loaded dataloader\")"
   ]
  },
  {
   "cell_type": "code",
   "execution_count": 10,
   "metadata": {},
   "outputs": [],
   "source": [
    "val_data = LicensePlateCharDataset(pre_cache=True, train=False, classes=training_data.classes)\n",
    "val_dataloader = DataLoader(val_data, batch_size=96, shuffle=True)"
   ]
  },
  {
   "cell_type": "code",
   "execution_count": 11,
   "metadata": {},
   "outputs": [],
   "source": [
    "model = CNN(fc2_out=(len(training_data.classes) + 1))\n",
    "gpu = torch.device('cuda:1')\n",
    "model = model.to(gpu)\n",
    "loss_function = nn.CTCLoss(zero_infinity=True).to(gpu)\n",
    "optimizer = torch.optim.Adam(model.parameters(), lr=0.0001)"
   ]
  },
  {
   "cell_type": "code",
   "execution_count": 12,
   "metadata": {},
   "outputs": [
    {
     "name": "stdout",
     "output_type": "stream",
     "text": [
      "Epoch 1, Training Loss: 6.2271\n",
      "Validation Loss: 3.0335\n",
      "Saved best model weights with Validation Loss: 3.0335 at: saved_models/best_model_weights.pth\n"
     ]
    },
    {
     "data": {
      "image/png": "[encoded data removed]",
      "text/plain": [
       "<Figure size 640x480 with 1 Axes>"
      ]
     },
     "metadata": {},
     "output_type": "display_data"
    },
    {
     "name": "stdout",
     "output_type": "stream",
     "text": [
      "Epoch 2, Training Loss: 2.9757\n",
      "Validation Loss: 2.9495\n",
      "Saved best model weights with Validation Loss: 2.9495 at: saved_models/best_model_weights.pth\n"
     ]
    },
    {
     "data": {
      "text/plain": [
       "<Figure size 640x480 with 0 Axes>"
      ]
     },
     "metadata": {},
     "output_type": "display_data"
    },
    {
     "name": "stdout",
     "output_type": "stream",
     "text": [
      "Epoch 3, Training Loss: 2.9356\n",
      "Validation Loss: 2.9240\n",
      "Saved best model weights with Validation Loss: 2.9240 at: saved_models/best_model_weights.pth\n"
     ]
    },
    {
     "data": {
      "text/plain": [
       "<Figure size 640x480 with 0 Axes>"
      ]
     },
     "metadata": {},
     "output_type": "display_data"
    },
    {
     "name": "stdout",
     "output_type": "stream",
     "text": [
      "Epoch 4, Training Loss: 2.9134\n",
      "Validation Loss: 2.9010\n",
      "Saved best model weights with Validation Loss: 2.9010 at: saved_models/best_model_weights.pth\n"
     ]
    },
    {
     "data": {
      "text/plain": [
       "<Figure size 640x480 with 0 Axes>"
      ]
     },
     "metadata": {},
     "output_type": "display_data"
    },
    {
     "name": "stdout",
     "output_type": "stream",
     "text": [
      "Epoch 5, Training Loss: 2.8888\n",
      "Validation Loss: 2.8766\n",
      "Saved best model weights with Validation Loss: 2.8766 at: saved_models/best_model_weights.pth\n"
     ]
    },
    {
     "data": {
      "text/plain": [
       "<Figure size 640x480 with 0 Axes>"
      ]
     },
     "metadata": {},
     "output_type": "display_data"
    },
    {
     "name": "stdout",
     "output_type": "stream",
     "text": [
      "Epoch 6, Training Loss: 2.8685\n",
      "Validation Loss: 2.8589\n",
      "Saved best model weights with Validation Loss: 2.8589 at: saved_models/best_model_weights.pth\n"
     ]
    },
    {
     "data": {
      "text/plain": [
       "<Figure size 640x480 with 0 Axes>"
      ]
     },
     "metadata": {},
     "output_type": "display_data"
    },
    {
     "name": "stdout",
     "output_type": "stream",
     "text": [
      "Epoch 7, Training Loss: 2.8491\n",
      "Validation Loss: 2.8413\n",
      "Saved best model weights with Validation Loss: 2.8413 at: saved_models/best_model_weights.pth\n"
     ]
    },
    {
     "data": {
      "text/plain": [
       "<Figure size 640x480 with 0 Axes>"
      ]
     },
     "metadata": {},
     "output_type": "display_data"
    },
    {
     "name": "stdout",
     "output_type": "stream",
     "text": [
      "Epoch 8, Training Loss: 2.8330\n",
      "Validation Loss: 2.8255\n",
      "Saved best model weights with Validation Loss: 2.8255 at: saved_models/best_model_weights.pth\n"
     ]
    },
    {
     "data": {
      "text/plain": [
       "<Figure size 640x480 with 0 Axes>"
      ]
     },
     "metadata": {},
     "output_type": "display_data"
    },
    {
     "name": "stdout",
     "output_type": "stream",
     "text": [
      "Epoch 9, Training Loss: 2.8190\n",
      "Validation Loss: 2.8169\n",
      "Saved best model weights with Validation Loss: 2.8169 at: saved_models/best_model_weights.pth\n"
     ]
    },
    {
     "data": {
      "text/plain": [
       "<Figure size 640x480 with 0 Axes>"
      ]
     },
     "metadata": {},
     "output_type": "display_data"
    },
    {
     "name": "stdout",
     "output_type": "stream",
     "text": [
      "Epoch 10, Training Loss: 2.8058\n"
     ]
    },
    {
     "ename": "KeyboardInterrupt",
     "evalue": "",
     "output_type": "error",
     "traceback": [
      "\u001b[0;31m---------------------------------------------------------------------------\u001b[0m",
      "\u001b[0;31mKeyboardInterrupt\u001b[0m                         Traceback (most recent call last)",
      "Cell \u001b[0;32mIn[12], line 78\u001b[0m\n\u001b[1;32m     75\u001b[0m         input_lengths \u001b[38;5;241m=\u001b[39m torch\u001b[38;5;241m.\u001b[39mfull(size\u001b[38;5;241m=\u001b[39m(N,), fill_value\u001b[38;5;241m=\u001b[39mT, dtype\u001b[38;5;241m=\u001b[39mtorch\u001b[38;5;241m.\u001b[39mlong, device\u001b[38;5;241m=\u001b[39mgpu)\n\u001b[1;32m     76\u001b[0m         target_lengths \u001b[38;5;241m=\u001b[39m torch\u001b[38;5;241m.\u001b[39mfull(size\u001b[38;5;241m=\u001b[39m(N,), fill_value\u001b[38;5;241m=\u001b[39m\u001b[38;5;241m8\u001b[39m, dtype\u001b[38;5;241m=\u001b[39mtorch\u001b[38;5;241m.\u001b[39mlong, device\u001b[38;5;241m=\u001b[39mgpu)\n\u001b[0;32m---> 78\u001b[0m         loss \u001b[38;5;241m=\u001b[39m \u001b[43mloss_function\u001b[49m\u001b[43m(\u001b[49m\u001b[43moutputs\u001b[49m\u001b[43m,\u001b[49m\u001b[43m \u001b[49m\u001b[43mlabels\u001b[49m\u001b[43m,\u001b[49m\u001b[43m \u001b[49m\u001b[43minput_lengths\u001b[49m\u001b[43m,\u001b[49m\u001b[43m \u001b[49m\u001b[43mtarget_lengths\u001b[49m\u001b[43m)\u001b[49m\n\u001b[1;32m     79\u001b[0m         running_val_loss \u001b[38;5;241m+\u001b[39m\u001b[38;5;241m=\u001b[39m loss\u001b[38;5;241m.\u001b[39mitem() \u001b[38;5;241m*\u001b[39m N\n\u001b[1;32m     81\u001b[0m avg_val_loss \u001b[38;5;241m=\u001b[39m running_val_loss \u001b[38;5;241m/\u001b[39m \u001b[38;5;28mlen\u001b[39m(val_data)\n",
      "File \u001b[0;32m~/new_venv/lib/python3.12/site-packages/torch/nn/modules/module.py:1736\u001b[0m, in \u001b[0;36mModule._wrapped_call_impl\u001b[0;34m(self, *args, **kwargs)\u001b[0m\n\u001b[1;32m   1734\u001b[0m     \u001b[38;5;28;01mreturn\u001b[39;00m \u001b[38;5;28mself\u001b[39m\u001b[38;5;241m.\u001b[39m_compiled_call_impl(\u001b[38;5;241m*\u001b[39margs, \u001b[38;5;241m*\u001b[39m\u001b[38;5;241m*\u001b[39mkwargs)  \u001b[38;5;66;03m# type: ignore[misc]\u001b[39;00m\n\u001b[1;32m   1735\u001b[0m \u001b[38;5;28;01melse\u001b[39;00m:\n\u001b[0;32m-> 1736\u001b[0m     \u001b[38;5;28;01mreturn\u001b[39;00m \u001b[38;5;28;43mself\u001b[39;49m\u001b[38;5;241;43m.\u001b[39;49m\u001b[43m_call_impl\u001b[49m\u001b[43m(\u001b[49m\u001b[38;5;241;43m*\u001b[39;49m\u001b[43margs\u001b[49m\u001b[43m,\u001b[49m\u001b[43m \u001b[49m\u001b[38;5;241;43m*\u001b[39;49m\u001b[38;5;241;43m*\u001b[39;49m\u001b[43mkwargs\u001b[49m\u001b[43m)\u001b[49m\n",
      "File \u001b[0;32m~/new_venv/lib/python3.12/site-packages/torch/nn/modules/module.py:1747\u001b[0m, in \u001b[0;36mModule._call_impl\u001b[0;34m(self, *args, **kwargs)\u001b[0m\n\u001b[1;32m   1742\u001b[0m \u001b[38;5;66;03m# If we don't have any hooks, we want to skip the rest of the logic in\u001b[39;00m\n\u001b[1;32m   1743\u001b[0m \u001b[38;5;66;03m# this function, and just call forward.\u001b[39;00m\n\u001b[1;32m   1744\u001b[0m \u001b[38;5;28;01mif\u001b[39;00m \u001b[38;5;129;01mnot\u001b[39;00m (\u001b[38;5;28mself\u001b[39m\u001b[38;5;241m.\u001b[39m_backward_hooks \u001b[38;5;129;01mor\u001b[39;00m \u001b[38;5;28mself\u001b[39m\u001b[38;5;241m.\u001b[39m_backward_pre_hooks \u001b[38;5;129;01mor\u001b[39;00m \u001b[38;5;28mself\u001b[39m\u001b[38;5;241m.\u001b[39m_forward_hooks \u001b[38;5;129;01mor\u001b[39;00m \u001b[38;5;28mself\u001b[39m\u001b[38;5;241m.\u001b[39m_forward_pre_hooks\n\u001b[1;32m   1745\u001b[0m         \u001b[38;5;129;01mor\u001b[39;00m _global_backward_pre_hooks \u001b[38;5;129;01mor\u001b[39;00m _global_backward_hooks\n\u001b[1;32m   1746\u001b[0m         \u001b[38;5;129;01mor\u001b[39;00m _global_forward_hooks \u001b[38;5;129;01mor\u001b[39;00m _global_forward_pre_hooks):\n\u001b[0;32m-> 1747\u001b[0m     \u001b[38;5;28;01mreturn\u001b[39;00m \u001b[43mforward_call\u001b[49m\u001b[43m(\u001b[49m\u001b[38;5;241;43m*\u001b[39;49m\u001b[43margs\u001b[49m\u001b[43m,\u001b[49m\u001b[43m \u001b[49m\u001b[38;5;241;43m*\u001b[39;49m\u001b[38;5;241;43m*\u001b[39;49m\u001b[43mkwargs\u001b[49m\u001b[43m)\u001b[49m\n\u001b[1;32m   1749\u001b[0m result \u001b[38;5;241m=\u001b[39m \u001b[38;5;28;01mNone\u001b[39;00m\n\u001b[1;32m   1750\u001b[0m called_always_called_hooks \u001b[38;5;241m=\u001b[39m \u001b[38;5;28mset\u001b[39m()\n",
      "File \u001b[0;32m~/new_venv/lib/python3.12/site-packages/torch/nn/modules/loss.py:1980\u001b[0m, in \u001b[0;36mCTCLoss.forward\u001b[0;34m(self, log_probs, targets, input_lengths, target_lengths)\u001b[0m\n\u001b[1;32m   1973\u001b[0m \u001b[38;5;28;01mdef\u001b[39;00m \u001b[38;5;21mforward\u001b[39m(\n\u001b[1;32m   1974\u001b[0m     \u001b[38;5;28mself\u001b[39m,\n\u001b[1;32m   1975\u001b[0m     log_probs: Tensor,\n\u001b[0;32m   (...)\u001b[0m\n\u001b[1;32m   1978\u001b[0m     target_lengths: Tensor,\n\u001b[1;32m   1979\u001b[0m ) \u001b[38;5;241m-\u001b[39m\u001b[38;5;241m>\u001b[39m Tensor:\n\u001b[0;32m-> 1980\u001b[0m     \u001b[38;5;28;01mreturn\u001b[39;00m \u001b[43mF\u001b[49m\u001b[38;5;241;43m.\u001b[39;49m\u001b[43mctc_loss\u001b[49m\u001b[43m(\u001b[49m\n\u001b[1;32m   1981\u001b[0m \u001b[43m        \u001b[49m\u001b[43mlog_probs\u001b[49m\u001b[43m,\u001b[49m\n\u001b[1;32m   1982\u001b[0m \u001b[43m        \u001b[49m\u001b[43mtargets\u001b[49m\u001b[43m,\u001b[49m\n\u001b[1;32m   1983\u001b[0m \u001b[43m        \u001b[49m\u001b[43minput_lengths\u001b[49m\u001b[43m,\u001b[49m\n\u001b[1;32m   1984\u001b[0m \u001b[43m        \u001b[49m\u001b[43mtarget_lengths\u001b[49m\u001b[43m,\u001b[49m\n\u001b[1;32m   1985\u001b[0m \u001b[43m        \u001b[49m\u001b[38;5;28;43mself\u001b[39;49m\u001b[38;5;241;43m.\u001b[39;49m\u001b[43mblank\u001b[49m\u001b[43m,\u001b[49m\n\u001b[1;32m   1986\u001b[0m \u001b[43m        \u001b[49m\u001b[38;5;28;43mself\u001b[39;49m\u001b[38;5;241;43m.\u001b[39;49m\u001b[43mreduction\u001b[49m\u001b[43m,\u001b[49m\n\u001b[1;32m   1987\u001b[0m \u001b[43m        \u001b[49m\u001b[38;5;28;43mself\u001b[39;49m\u001b[38;5;241;43m.\u001b[39;49m\u001b[43mzero_infinity\u001b[49m\u001b[43m,\u001b[49m\n\u001b[1;32m   1988\u001b[0m \u001b[43m    \u001b[49m\u001b[43m)\u001b[49m\n",
      "File \u001b[0;32m~/new_venv/lib/python3.12/site-packages/torch/nn/functional.py:3069\u001b[0m, in \u001b[0;36mctc_loss\u001b[0;34m(log_probs, targets, input_lengths, target_lengths, blank, reduction, zero_infinity)\u001b[0m\n\u001b[1;32m   3057\u001b[0m \u001b[38;5;28;01mif\u001b[39;00m has_torch_function_variadic(log_probs, targets, input_lengths, target_lengths):\n\u001b[1;32m   3058\u001b[0m     \u001b[38;5;28;01mreturn\u001b[39;00m handle_torch_function(\n\u001b[1;32m   3059\u001b[0m         ctc_loss,\n\u001b[1;32m   3060\u001b[0m         (log_probs, targets, input_lengths, target_lengths),\n\u001b[0;32m   (...)\u001b[0m\n\u001b[1;32m   3067\u001b[0m         zero_infinity\u001b[38;5;241m=\u001b[39mzero_infinity,\n\u001b[1;32m   3068\u001b[0m     )\n\u001b[0;32m-> 3069\u001b[0m \u001b[38;5;28;01mreturn\u001b[39;00m \u001b[43mtorch\u001b[49m\u001b[38;5;241;43m.\u001b[39;49m\u001b[43mctc_loss\u001b[49m\u001b[43m(\u001b[49m\n\u001b[1;32m   3070\u001b[0m \u001b[43m    \u001b[49m\u001b[43mlog_probs\u001b[49m\u001b[43m,\u001b[49m\n\u001b[1;32m   3071\u001b[0m \u001b[43m    \u001b[49m\u001b[43mtargets\u001b[49m\u001b[43m,\u001b[49m\n\u001b[1;32m   3072\u001b[0m \u001b[43m    \u001b[49m\u001b[43minput_lengths\u001b[49m\u001b[43m,\u001b[49m\n\u001b[1;32m   3073\u001b[0m \u001b[43m    \u001b[49m\u001b[43mtarget_lengths\u001b[49m\u001b[43m,\u001b[49m\n\u001b[1;32m   3074\u001b[0m \u001b[43m    \u001b[49m\u001b[43mblank\u001b[49m\u001b[43m,\u001b[49m\n\u001b[1;32m   3075\u001b[0m \u001b[43m    \u001b[49m\u001b[43m_Reduction\u001b[49m\u001b[38;5;241;43m.\u001b[39;49m\u001b[43mget_enum\u001b[49m\u001b[43m(\u001b[49m\u001b[43mreduction\u001b[49m\u001b[43m)\u001b[49m\u001b[43m,\u001b[49m\n\u001b[1;32m   3076\u001b[0m \u001b[43m    \u001b[49m\u001b[43mzero_infinity\u001b[49m\u001b[43m,\u001b[49m\n\u001b[1;32m   3077\u001b[0m \u001b[43m\u001b[49m\u001b[43m)\u001b[49m\n",
      "\u001b[0;31mKeyboardInterrupt\u001b[0m: "
     ]
    }
   ],
   "source": [
    "import os\n",
    "import torch\n",
    "import matplotlib.pyplot as plt\n",
    "import csv\n",
    "\n",
    "torch.manual_seed(32)\n",
    "\n",
    "# Create a directory to save the models and logs\n",
    "os.makedirs(\"saved_models\", exist_ok=True)\n",
    "os.makedirs(\"logs\", exist_ok=True)\n",
    "\n",
    "# Initialize lists to store losses\n",
    "train_losses = []\n",
    "val_losses = []\n",
    "\n",
    "# Create or open a CSV file for logging losses\n",
    "csv_file_path = \"logs/losses_log.csv\"\n",
    "with open(csv_file_path, mode=\"w\", newline=\"\") as file:\n",
    "    writer = csv.writer(file)\n",
    "    writer.writerow([\"Epoch\", \"Train Loss\", \"Validation Loss\"])  # Header row\n",
    "\n",
    "# Set up Matplotlib for live visualization\n",
    "plt.ion()  # Turn on interactive mode\n",
    "fig, ax = plt.subplots()\n",
    "train_line, = ax.plot([], [], label=\"Train Loss\")\n",
    "val_line, = ax.plot([], [], label=\"Validation Loss\")\n",
    "ax.set_xlabel(\"Epoch\")\n",
    "ax.set_ylabel(\"Loss\")\n",
    "ax.set_title(\"Training and Validation Loss\")\n",
    "ax.legend()\n",
    "\n",
    "# Training loop\n",
    "num_epochs = 600\n",
    "best_val_loss = float(\"inf\")  # Initialize best validation loss\n",
    "\n",
    "for epoch in range(num_epochs):\n",
    "    model.train()\n",
    "    running_loss = 0.0\n",
    "\n",
    "    for data, labels in train_dataloader:\n",
    "        data = data.to(gpu)\n",
    "        labels = labels.to(gpu)\n",
    "        optimizer.zero_grad()\n",
    "        outputs = model(data)  # (T, N, C)\n",
    "        T = outputs.size(0)\n",
    "        N = outputs.size(1)\n",
    "        \n",
    "        # Flatten targets for CTC\n",
    "        labels = labels.view(-1)\n",
    "        input_lengths = torch.full(size=(N,), fill_value=T, dtype=torch.long, device=gpu)\n",
    "        target_lengths = torch.full(size=(N,), fill_value=8, dtype=torch.long, device=gpu)\n",
    "        \n",
    "        loss = loss_function(outputs, labels, input_lengths, target_lengths)\n",
    "        loss.backward()\n",
    "        optimizer.step()\n",
    "        running_loss += loss.item() * N\n",
    "\n",
    "    avg_train_loss = running_loss / len(training_data)\n",
    "    train_losses.append(avg_train_loss)\n",
    "    print(f\"Epoch {epoch + 1}, Training Loss: {avg_train_loss:.4f}\")\n",
    "\n",
    "    # Validation phase\n",
    "    model.eval()\n",
    "    running_val_loss = 0.0\n",
    "    with torch.no_grad():\n",
    "        for data, labels in val_dataloader:\n",
    "            data = data.to(gpu)\n",
    "            labels = labels.to(gpu)\n",
    "            outputs = model(data)  # (T, N, C)\n",
    "            T = outputs.size(0)\n",
    "            N = outputs.size(1)\n",
    "            \n",
    "            # Flatten targets for CTC\n",
    "            labels = labels.view(-1)\n",
    "            input_lengths = torch.full(size=(N,), fill_value=T, dtype=torch.long, device=gpu)\n",
    "            target_lengths = torch.full(size=(N,), fill_value=8, dtype=torch.long, device=gpu)\n",
    "            \n",
    "            loss = loss_function(outputs, labels, input_lengths, target_lengths)\n",
    "            running_val_loss += loss.item() * N\n",
    "\n",
    "    avg_val_loss = running_val_loss / len(val_data)\n",
    "    val_losses.append(avg_val_loss)\n",
    "    print(f\"Validation Loss: {avg_val_loss:.4f}\")\n",
    "\n",
    "    # Log losses to CSV\n",
    "    with open(csv_file_path, mode=\"a\", newline=\"\") as file:\n",
    "        writer = csv.writer(file)\n",
    "        writer.writerow([epoch + 1, avg_train_loss, avg_val_loss])\n",
    "\n",
    "    # Save best model weights based on validation loss\n",
    "    if avg_val_loss < best_val_loss:\n",
    "        best_val_loss = avg_val_loss\n",
    "        best_weights_save_path = \"saved_models/best_model_weights.pth\"\n",
    "        torch.save(model.state_dict(), best_weights_save_path)\n",
    "        print(f\"Saved best model weights with Validation Loss: {best_val_loss:.4f} at: {best_weights_save_path}\")\n",
    "\n",
    "    # Save weights and model every 100 epochs\n",
    "    if (epoch + 1) % 100 == 0:\n",
    "        model_save_path = f\"saved_models/model_epoch_{epoch + 1}.pth\"\n",
    "        weights_save_path = f\"saved_models/model_weights_epoch_{epoch + 1}.pth\"\n",
    "\n",
    "        # Save the entire model\n",
    "        torch.save(model, model_save_path)\n",
    "        print(f\"Epoch {epoch + 1}, Training Loss: {avg_train_loss:.4f}, Validation Loss: {avg_val_loss:.4f}\")\n",
    "        print(f\"Saved the entire model at: {model_save_path}\")\n",
    "\n",
    "        # Save only the model weights\n",
    "        torch.save(model.state_dict(), weights_save_path)\n",
    "        print(f\"Saved model weights at: {weights_save_path}\")\n",
    "\n",
    "    # Update live plot\n",
    "    train_line.set_data(range(1, len(train_losses) + 1), train_losses)\n",
    "    val_line.set_data(range(1, len(val_losses) + 1), val_losses)\n",
    "    ax.set_xlim(1, len(train_losses) + 1)\n",
    "    ax.set_ylim(min(train_losses + val_losses) * 0.9, max(train_losses + val_losses) * 1.1)\n",
    "    plt.draw()\n",
    "    plt.pause(0.01)\n",
    "\n",
    "# Save final model and weights at the end of training\n",
    "final_model_save_path = \"saved_models/final_model.pth\"\n",
    "final_weights_save_path = \"saved_models/final_model_weights.pth\"\n",
    "\n",
    "torch.save(model, final_model_save_path)\n",
    "torch.save(model.state_dict(), final_weights_save_path)\n",
    "print(f\"Saved final model at: {final_model_save_path}\")\n",
    "print(f\"Saved final model weights at: {final_weights_save_path}\")\n",
    "\n",
    "# Save loss plot\n",
    "plt.ioff()  # Turn off interactive mode\n",
    "plt.savefig(\"logs/training_validation_loss.png\")\n",
    "plt.show()\n"
   ]
  },
  {
   "cell_type": "code",
   "execution_count": 39,
   "metadata": {},
   "outputs": [],
   "source": [
    "torch.save(model.state_dict(), 'weights_last.pth')\n",
    "torch.save(model, 'model_last.pth')"
   ]
  },
  {
   "cell_type": "code",
   "execution_count": 17,
   "metadata": {},
   "outputs": [],
   "source": [
    "gpu = torch.device('cuda:1')\n",
    "model = torch.load('model_last.pth', weights_only=False)"
   ]
  },
  {
   "cell_type": "code",
   "execution_count": 12,
   "metadata": {},
   "outputs": [],
   "source": [
    "model = CNN(fc2_out=(len(training_data.classes) + 1))\n",
    "# model.load_state_dict(torch.load('/home/infres/lotfi-23/training/weights_last.pth'))\n",
    "model.load_state_dict(torch.load(\"/home/infres/lotfi-23/training/weights_last.pth\", weights_only=True))\n",
    "model = model.to(gpu)"
   ]
  },
  {
   "cell_type": "code",
   "execution_count": 13,
   "metadata": {},
   "outputs": [
    {
     "data": {
      "text/plain": [
       "['M',\n",
       " '9',\n",
       " 'L',\n",
       " '0',\n",
       " 'J',\n",
       " 'N',\n",
       " 'T',\n",
       " '7',\n",
       " '4',\n",
       " 'O',\n",
       " '1',\n",
       " 'V',\n",
       " 'B',\n",
       " 'Š',\n",
       " 'Ṯ',\n",
       " '6',\n",
       " '3',\n",
       " '8',\n",
       " 'Q',\n",
       " 'D',\n",
       " 'Ṭ',\n",
       " 'S',\n",
       " '5',\n",
       " 'Ṣ',\n",
       " 'A',\n",
       " '2',\n",
       " 'Ž',\n",
       " 'Y',\n",
       " 'H']"
      ]
     },
     "execution_count": 13,
     "metadata": {},
     "output_type": "execute_result"
    }
   ],
   "source": [
    "training_data.classes"
   ]
  },
  {
   "cell_type": "code",
   "execution_count": 17,
   "metadata": {},
   "outputs": [],
   "source": [
    "def label_to_str1(lbl):\n",
    "    return ''.join([training_data.classes[x-1] if x != 0 else '_' for x in lbl])\n",
    "    \n",
    "\n",
    "def label_to_str(lbl):\n",
    "    # Convert label indices to string\n",
    "    raw_str = ''.join([training_data.classes[x-1] if x != 0 else '_' for x in lbl])\n",
    "    \n",
    "    # Remove consecutive duplicates (excluding '_')\n",
    "    processed_str = []\n",
    "    prev_char = None\n",
    "    for char in raw_str:\n",
    "        if char != prev_char or char == '_':\n",
    "            processed_str.append(char)\n",
    "        prev_char = char\n",
    "    \n",
    "    # Remove all '_'\n",
    "    final_str = ''.join([c for c in processed_str if c != '_'])\n",
    "    return final_str, raw_str\n",
    "def greedy_all(output):\n",
    "    return label_to_str(output[:,:,:].argmax(axis=-1)[:,0])\n",
    "\n",
    "def eight_most_probable(output):\n",
    "    m = output[:,:,:].argmax(axis=-1)[:,0]\n",
    "    p = output[:,:,:].max(axis=-1)[:,0]\n",
    "    p = p[m != 0]\n",
    "    m = m[m != 0]\n",
    "    try:\n",
    "        ind = p.argpartition(-8)[-8:]\n",
    "        return label_to_str(m[ind])\n",
    "    except ValueError:\n",
    "        # Could not find 8 non-blank characters\n",
    "        return greedy_all(output)\n",
    "\n",
    "def beam_search_encode(output, k=8):\n",
    "    # greedy sarch:\n",
    "    # ''.join([training_data.classes[x-1] if x != 0 else '' for x in output[:,:,:].argmax(axis=-1)[:,0]])\n",
    "\n",
    "    trial_seqs = []\n",
    "    \n",
    "\n"
   ]
  },
  {
   "cell_type": "code",
   "execution_count": null,
   "metadata": {},
   "outputs": [],
   "source": []
  },
  {
   "cell_type": "code",
   "execution_count": 18,
   "metadata": {},
   "outputs": [],
   "source": [
    "import numpy as np\n",
    "\n",
    "def predict(data, strategy='greedy'):\n",
    "    arr = np.array([data])\n",
    "    out = model(torch.tensor(arr).to(gpu))\n",
    "    a2 = out.cpu().detach().numpy()\n",
    "    if strategy == 'greedy':\n",
    "        return greedy_all(a2)\n",
    "\n",
    "    return eight_most_probable(a2)"
   ]
  },
  {
   "cell_type": "code",
   "execution_count": 19,
   "metadata": {},
   "outputs": [
    {
     "name": "stdout",
     "output_type": "stream",
     "text": [
      "(1, 1, 50, 200)\n"
     ]
    }
   ],
   "source": [
    "import numpy as np\n",
    "inde = 1025\n",
    "arr = np.array([val_data[inde][0]])\n",
    "print(arr.shape)\n",
    "out = model(torch.tensor(arr).to(gpu))\n",
    "a2 = out.cpu().detach().numpy()"
   ]
  },
  {
   "cell_type": "code",
   "execution_count": 44,
   "metadata": {},
   "outputs": [
    {
     "data": {
      "text/plain": [
       "(50, 1, 25)"
      ]
     },
     "execution_count": 44,
     "metadata": {},
     "output_type": "execute_result"
    }
   ],
   "source": [
    "a2.shape"
   ]
  },
  {
   "cell_type": "code",
   "execution_count": 45,
   "metadata": {},
   "outputs": [
    {
     "data": {
      "text/plain": [
       "('B4JNDMJM', 'B4JNDMJM')"
      ]
     },
     "execution_count": 45,
     "metadata": {},
     "output_type": "execute_result"
    }
   ],
   "source": [
    "eight_most_probable(a2)"
   ]
  },
  {
   "cell_type": "code",
   "execution_count": 46,
   "metadata": {},
   "outputs": [
    {
     "data": {
      "text/plain": [
       "('JM4JMNBD', 'J_M4J__MN__B_____________________________________D')"
      ]
     },
     "execution_count": 46,
     "metadata": {},
     "output_type": "execute_result"
    }
   ],
   "source": [
    "greedy_all(a2)"
   ]
  },
  {
   "cell_type": "code",
   "execution_count": 47,
   "metadata": {},
   "outputs": [
    {
     "data": {
      "text/plain": [
       "np.float32(50.0)"
      ]
     },
     "execution_count": 47,
     "metadata": {},
     "output_type": "execute_result"
    }
   ],
   "source": [
    "np.sum(np.exp(a2))"
   ]
  },
  {
   "cell_type": "code",
   "execution_count": 48,
   "metadata": {},
   "outputs": [
    {
     "data": {
      "text/plain": [
       "<matplotlib.image.AxesImage at 0x7c228b073050>"
      ]
     },
     "execution_count": 48,
     "metadata": {},
     "output_type": "execute_result"
    },
    {
     "data": {
      "image/png": "[encoded data removed]",
      "text/plain": [
       "<Figure size 640x480 with 1 Axes>"
      ]
     },
     "metadata": {},
     "output_type": "display_data"
    }
   ],
   "source": [
    "from matplotlib import pyplot as plt\n",
    "plt.imshow(training_data[1050][0].permute(1,2,0), cmap='gray')"
   ]
  },
  {
   "cell_type": "code",
   "execution_count": 49,
   "metadata": {},
   "outputs": [
    {
     "data": {
      "text/plain": [
       "'J M4J  MN  B                                     D'"
      ]
     },
     "execution_count": 49,
     "metadata": {},
     "output_type": "execute_result"
    }
   ],
   "source": [
    "''.join([training_data.classes[x-1] if x != 0 else ' ' for x in a2[:,:,:].argmax(axis=-1)[:,0]])\n"
   ]
  },
  {
   "cell_type": "code",
   "execution_count": 50,
   "metadata": {},
   "outputs": [
    {
     "data": {
      "text/plain": [
       "<matplotlib.image.AxesImage at 0x7c2288f25fa0>"
      ]
     },
     "execution_count": 50,
     "metadata": {},
     "output_type": "execute_result"
    },
    {
     "data": {
      "image/png": "[encoded data removed]",
      "text/plain": [
       "<Figure size 640x480 with 1 Axes>"
      ]
     },
     "metadata": {},
     "output_type": "display_data"
    }
   ],
   "source": [
    "plt.imshow(training_data[1000][0].permute(1,2,0), cmap='gray')"
   ]
  },
  {
   "cell_type": "code",
   "execution_count": 51,
   "metadata": {},
   "outputs": [
    {
     "data": {
      "text/plain": [
       "('MMODYMSL', 'M_MOD__YM__S_____________________________________L')"
      ]
     },
     "execution_count": 51,
     "metadata": {},
     "output_type": "execute_result"
    }
   ],
   "source": [
    "predict(training_data[1000][0])"
   ]
  },
  {
   "cell_type": "code",
   "execution_count": 74,
   "metadata": {},
   "outputs": [
    {
     "data": {
      "text/plain": [
       "'89Q15255'"
      ]
     },
     "execution_count": 74,
     "metadata": {},
     "output_type": "execute_result"
    }
   ],
   "source": [
    "pred = predict(val_data[1000][0])\n",
    "pred"
   ]
  },
  {
   "cell_type": "code",
   "execution_count": 25,
   "metadata": {},
   "outputs": [
    {
     "name": "stdout",
     "output_type": "stream",
     "text": [
      "32D75944 32D75949 3_2D______________________7___5____9___4_________9\n",
      "14V82134 14V82133 14V_____________________88___2____1____3_________3\n",
      "24D85820 64D85820 6_4D______________________8___55____8___2________0\n",
      "34D94188 44H47999 4_4H_______________________4____7___9___9________9\n",
      "15D14733 75D14734 75D______________________11__4___7___3___________4\n",
      "55D66H94 5H98288 5_HH_____________________9____8____2____8________8\n",
      "58Q35555 891H3654 891H_____________________3___6____5______________4\n",
      "77H27438 77H2748 7_7H_______________________22___77___4___________8\n",
      "91B71816 51B71816 511B_______________________77___1___88____1______6\n",
      "92N74633 33N74693 3_3N_______________________7___4___6____9________3\n",
      "44Y39533 44Y39522 4_4Y_______________________3___9___5___2_________2\n",
      "35J23855 95J23855 95J____________________2___3___8_____5___________5\n",
      "85Y76338 75Y76338 75Y_______________________7____6____3_____3______8\n",
      "18Q92129 88Q92142 8_8Q______________________9___2____1____4________2\n",
      "26Y53444 76Y53444 7_6Y__________________5____3____4______4_________4\n",
      "29B15110 39B15110 3_9B____________________1___5___1____1___________0\n",
      "58S63220 75Y64428 75Y______________________6____4___4____22________8\n",
      "86N11910 1Q287222 11QQ_____________________2____8____7____2___2____2\n",
      "43S13328 42S13328 4_2SS_____________________1___33___3____22_______8\n",
      "34D56866 34H56866 3_4H______________________55___6___8_____6_______6\n",
      "18N81777 1881228 188_______________________8___1___22____2________8\n",
      "76T18122 76T18172 7_6T_____________________1____8____1____7________2\n",
      "35V75534 25V75534 25V____________________7___5____55_____3_________4\n",
      "74L27116 74L37116 7_4L_____________________3____7____11____1_______6\n",
      "26L75216 26B1216 2_6B_____________________11________2_____1_______6\n",
      "14B17455 13B11388 13BB______________________11__1____3_____8_______8\n",
      "19S24118 19S24115 19SS_____________________2____4____1____1________5\n",
      "68B55816 62B55816 6_2B_____________________5____55___8_____1_______6\n",
      "15A11531 16A11729 16A___________________1____1____7____2___________9\n",
      "77D46510 27D46510 2_7D___________________4___66___5______1_________0\n",
      "24H48236 26H48236 2_6H___________________4____8____2_____3_________6\n",
      "91J49193 21J49193 21J______________________4____9___1____99________3\n",
      "42S31655 47S31655 4_7S___________________3____1___6____55__________5\n",
      "68Q16599 68Y16542 68Y_______________________1___6___5____4_________2\n",
      "68D53844 48D53844 48D_____________________5____3___8____4__________4\n",
      "41O58855 41J58855 41J______________________5____8____8____5________5\n",
      "71J98616 21J98616 21J______________________9___8___6____11_________6\n",
      "64Y46955 64Y46958 6_4Y_____________________4____6___99___5_________8\n",
      "81J55877 12J66588 1_2J________________________6____6___55___8______8\n",
      "12Q66577 82Q66577 82Q_____________________6___6____5____7__________7\n",
      "52D51289 53D51289 53DD__________________5______1____2_____8________9\n",
      "75V81266 75O812666 755O_________________8_____1___2____66___6_______6\n",
      "47Y49210 47Y39210 4_7Y_____________________33___9___2____1_________0\n",
      "29V81944 39V81947 3_9V_____________________8_____1___99____4_______7\n",
      "21H24311 71H24311 71HH_____________________2____4___3____1_________1\n",
      "77V68863 27V68163 2_7V___________________6____88____1_____6________3\n",
      "92L84944 92L84926 9_2L______________________88___4___9____2________6\n",
      "46J96761 46J32760 4_6J____________________3____2____7____6_________0\n",
      "12A51498 12A61398 12AA___________________6____1___33___9___________8\n",
      "32T21712 32T21717 3_2T______________________2____1___7_____11______7\n",
      "77J32510 27J32510 2_7J__________________3____2____5______1_________0\n",
      "15V11622 15V11639 155V___________________1___1___6____3____________9\n",
      "49T55333 41T55333 41T_____________________5___5____33____33________3\n",
      "28D65155 78D65155 78D___________________66___55____1___55__________5\n",
      "11A62298 12L68898 12L_____________________6___8____8____9__________8\n",
      "34Y69188 44Y69188 4_4Y____________________6_____9___1_____8________8\n",
      "33L45516 22L36516 2_2L____________________3____6____5_____1________6\n",
      "39Q51599 29N51599 2_9N__________________55____1____5_____9_________9\n",
      "94V59511 44V59528 4_4V_____________________5____9___5____2_________8\n",
      "64J78699 64J758699 6_4J_____________________7___58___66____9________9\n",
      "69M92182 61N92182 61N_____________________9____2____1____8_________2\n",
      "25B77398 16N77498 16N____________________7___77___4_____9__________8\n",
      "46M51599 46M55599 4_6M___________________5_____5___5_____9_________9\n",
      "12L37377 87N877 87N_____________________________8_______7________7\n",
      "97V74568 17V74565 17VV_____________________7____4___5____66________5\n",
      "53H57428 53H57338 53H______________________5____7____3_____3_______8\n",
      "46S99844 96S91855 9_6S____________________9___1___8____5___________5\n",
      "55J27838 55J27538 5_5J_____________________2____7____5____3________8\n",
      "54B48911 54B98911 54B_______________________9____8___99____1_______1\n",
      "94T56433 94T56423 9_4T_____________________55___6____4_____2_______3\n",
      "84Q44711 86Q622899 86Q____________________6___2___2___8____9________9\n",
      "79Q32274 79Q32374 7_9Q______________________3____2____3_____7______4\n",
      "82V58522 82V58544 82V_____________________5____8____5_____4________4\n",
      "97D55199 97D55999 9_7D____________________5____5____9____99________9\n",
      "22V14966 63M14249 6_3M_______________________1___4___2____4________9\n",
      "27D91511 27D91811 2_7D__________________99____1____8_____1_________1\n",
      "94D95168 1D95168 1_DD_________________9____5_____1_____66_________8\n",
      "58V44355 88Q44955 8_8Q_____________________4____4____9____5________5\n",
      "92L61526 92L61536 9_2L____________________66____1___55____3________6\n",
      "11B52216 11B53216 1_1BB__________________5____3____2_____1_________6\n",
      "65O57544 65J57544 65J_____________________55___77__55____4_________4\n",
      "89Y48211 89Y482311 899Y____________________4____8___23_____1________1\n",
      "79N64455 67N64455 6_7N_____________________6___4__4___5____________5\n",
      "44T22511 46N22511 4_6N_____________________2____2___5_____1________1\n",
      "19T81511 11T81511 1_1T_____________________8_____1___55____1_______1\n",
      "12B67612 12B67611 12B_________________________6____7___6____11_____1\n",
      "48B97143 98B97778 98BB______________________9____7____7____7_______8\n",
      "27D26938 77Q26938 7_7Q__________________2_____6_____9_____3________8\n",
      "28H55410 21H55410 21H_____________________5___5____44____11________0\n",
      "24N23311 24N33918 2_4N_______________________3___3___9_____1_______8\n",
      "42M17116 43M17116 4_3M______________________1___7____1____1________6\n",
      "13T59811 13T59511 13T______________________5____9____5____11_______1\n",
      "67S65288 67S65388 6_7S____________________6____5___3_____88________8\n",
      "31J75529 31J75579 31J____________________77___55____5_____7________9\n",
      "27J25153 94J25153 9_4J_____________________2___55____1____5________3\n",
      "52L33416 52L23416 52L_____________________22____3____4_____1_______6\n",
      "83Q55633 73Q58633 7_3Q______________________5____8____6____3_______3\n",
      "81Y83410 81Q83410 8_1Q_____________________88___3___4_____1________0\n",
      "23S47244 52N6344 5_2N_________________________6____3___4__________4\n",
      "53H79236 53H79226 53H______________________7____99___2_____2_______6\n",
      "24Q71711 34Q71711 3_4Q________________________7___11__7____1_______1\n",
      "36B53491 26B53491 2_6B____________________5____3____4_____9________1\n",
      "76T78133 86T88134 86TT_______________________8__8____1____3________4\n",
      "12M93498 12J93498 12J______________________9___3____4_____99_______8\n",
      "28Y35855 38Y35855 38Y_______________________3___5____8_____5_______5\n",
      "94Q32842 94Q32822 944Q____________________3____2____8____2_________2\n",
      "37D47878 22D47877 2_2D___________________4____7____8____7__________7\n",
      "95J45644 95J45634 95JJ_____________________4____5___66_____3_______4\n",
      "38L75116 48L75116 48L_______________________7___5___1____1_________6\n",
      "32D85189 22D85189 2_2D__________________8____55_____1_____8________9\n",
      "52H56126 52H56136 52H______________________5____6____11____3_______6\n",
      "83O72133 82O72133 82O_____________________77___2____1____3_________3\n",
      "74H77888 72H77158 7_2H_____________________7____7____1_____5_______8\n",
      "65Q38455 6Q38455 6_QQ___________________3____8____4_____55________5\n",
      "57D86418 57H86418 57H_____________________8___6____4_____1_________8\n",
      "33A68722 19A68323 1_9A___________________66___8____3_____2_________3\n",
      "27D82436 27D82432 2_7D____________________8___2____4_____3_________2\n",
      "12L76910 13L76910 13L______________________7___6___99____1_________0\n",
      "61N85521 61Q8551 61QQ____________________8___5____55______________1\n",
      "67Q33816 62Q44919 6_2Q_______________________4____4___9____1_______9\n",
      "49H18899 44H18899 4_4H______________________11___8___8____9________9\n",
      "57Q92177 79N891 7_9N__________________________8_________99_______1\n",
      "13B55420 13D55420 13D________________________5___55___4_____2______0\n",
      "64J44198 44J44198 4_4J________________4____4____1____99____________8\n",
      "82M18224 72M18224 7_2M____________________1____8____2_____2________4\n",
      "86H39699 56H39699 56H_____________________3____9___6____99_________9\n",
      "14A68918 1A6847 1_AA___________________6___8____4________________7\n",
      "85Q12965 85Q12968 8_5Q___________________11___2____99____6_________8\n",
      "39V58744 39V58734 3_9V______________________5____8___7____3________4\n",
      "46S79277 46S79278 4_6S_____________________7___9___2____7__________8\n",
      "48L65499 48L65490 48L_______________________6____5____4____9_______0\n",
      "94L35419 94L95419 9_4L______________________9___5____4____1________9\n",
      "86H34677 56H34677 56HH______________________3___4____6____7________7\n",
      "87M94793 87M94713 87M______________________9___4____7_____1________3\n",
      "76L29955 76L2995 7_6L________________________2____9____9__________5\n",
      "63M99316 63M99216 6_3M_____________________9____9___2_____1________6\n",
      "69V11324 69O11334 6_9O_____________________1____1___3_____3________4\n",
      "23T75416 33T15414 3_3T_____________________1____5____4____1________4\n",
      "37D83124 37D83122 3_7D_____________________88____3____1____2_______2\n",
      "41O16112 45O16112 45O______________________1___6_____1_____1_______2\n",
      "11A94698 11A43491 1_1A___________________4____3___4_____9__________1\n",
      "61L36255 52L367255 52L_______________________3___66___72___55_______5\n",
      "57J33338 87J33338 87JJ_________________3____3____3______3__________8\n",
      "47T14922 47T14933 4_7T_______________________1___4____9____3_______3\n",
      "78Y11811 78Y17885 78Y_________________________1__7__8____8_________5\n",
      "48V57810 48Q57810 48Q_______________________5____7___8____11_______0\n",
      "86Q16211 85Q16210 85Q______________________1___6___2____1__________0\n",
      "41Y56568 41Q56568 41Q______________________5____6___55____6________8\n",
      "49Q56129 49N56129 4_9N______________________5____6____11___2_______9\n",
      "95S28122 75S98144 75SS___________________9___8____11_____4_________4\n",
      "62V39868 67V39868 6_7V_____________________3____9____8____66_______8\n",
      "92Q15616 12Q15610 12Q____________________1___5___6____1____________0\n",
      "44Q29316 42Q29316 4_2Q_____________________2___99___3_____11_______6\n",
      "61J34198 61O34198 611O___________________3____4____1____9__________8\n",
      "51L25811 81L25882 8_1L__________________2____5____8______8_________2\n",
      "92J13220 12Y12627 1_2Y_______________________11___2____6___2_______7\n",
      "24V85534 24V85533 2_4V_____________________88___5___55____3________3\n",
      "66O64362 66O64367 6_6O____________________6_____4____3____6________7\n",
      "38Q36729 31Q46729 31Q_______________________4___6____7____2________9\n",
      "13Q43429 93Q43429 9_3Q_____________________4____3____4_____2_______9\n",
      "49B24377 47B74477 4_7B_______________________7___4___4____7________7\n",
      "69D96316 69D96216 6_9D____________________99___6_____2_____1_______6\n",
      "12O72916 12J72916 12J______________________7____2____9____1________6\n",
      "21N26555 21N36555 21N_______________________3____6____5____5_______5\n",
      "74L15599 74L15518 7_4L_________________________1___5____5___1______8\n",
      "52V21110 52V71710 52V_______________________7_____1___7_____1______0\n",
      "32M64898 22M64898 2_2M__________________6____4____88___99__________8\n",
      "51V82110 61Q184110 6_1Q______________________18___4___11___1________0\n",
      "67H19844 62H19844 6_2H_____________________11__9___88____4_________4\n",
      "14Q58810 99Q68811 9_9Q_____________________66___8___8____1_________1\n",
      "59V68777 59V58772 59V______________________5____8____7_____7_______2\n",
      "42H14138 32H14138 3_2H____________________1___4____1____3__________8\n",
      "12A99118 12A793918 12AA__________________79___3____9______1_________8\n",
      "73M66536 73M66526 7_3M____________________6____6____5_____2________6\n",
      "59Y46268 77M36248 7_7M_______________________3___66___2____4_______8\n",
      "73H78855 73H78858 7_3H______________________7____8___8_____5_______8\n",
      "82H51242 82H51243 82HH_____________________5_____1___2_____4_______3\n",
      "29S11466 39S11466 3_9S________________________11___1___4___6_______6\n",
      "27H99113 27H99112 2_7H_________________________9___99___1___11_____2\n",
      "73N16299 23N16299 2_3N___________________11___6_____2_____99_______9\n",
      "84Y55811 82Y55810 82Y____________________5___55___8____1___________0\n",
      "12M41893 13M41893 13MM____________________4_____1__88_____9________3\n",
      "98B18810 18T98814 188T_____________________9__8___8____1___________4\n",
      "79N25244 79N35344 7_9N____________________3____5____3____44________4\n",
      "37Q39622 39Q39622 3_9Q______________________3____9___6_____2_______2\n",
      "22D27474 22D27472 2_2D____________________2___7__4____7____________2\n",
      "39Y66978 39Y66975 3_9Y_____________________6____6____9____77_______5\n",
      "19H39953 19H39557 199H_____________________3____9___5_____5________7\n",
      "43Y72611 42Y72611 4_2Y_____________________7____2___6______1_______1\n",
      "41N42368 41N42268 41N_____________________4____2____2_____6________8\n",
      "21B54210 21D54210 21D______________________5____4____2_____1_______0\n",
      "14J38536 19JV38526 19JV__________________33____8___55____2__________6\n",
      "67V56857 67Q86857 6_7Q___________________8___6___8___5_____________7\n",
      "19M13699 98M36939 98M_____________________3__6___9_______3_________9\n",
      "27V12134 27V12144 2_7V________________________1___22___11___4______4\n",
      "18M76744 18M76742 1_8M_______________________7___6___7____4________2\n",
      "65V64877 65V44877 65VV____________________4_____4____8____7________7\n",
      "43D97324 63D97324 6_3D_____________________9____7___33____2________4\n",
      "82Q72416 89Q73416 89Q_______________________77___3___4____1________6\n",
      "14J68121 14J68133 14JJ_____________________6____8____1____3________3\n",
      "27Q35855 29H5516 2_9H_________________________5___5____1__________6\n",
      "89Q51416 89Q51410 89QQ______________________55____1___4____11______0\n",
      "68Q97411 68Q97471 68QQ_____________________99___77___4_____7_______1\n",
      "27D26921 27N26921 2_7N_____________________2____6____9_____2_______1\n",
      "36M58343 96M58343 966M___________________5_____8____3_____4________3\n",
      "59S11599 69S15912 69S______________________1___5____9_____1________2\n",
      "66V67724 256V67724 256V___________________66____7____7_____2________4\n",
      "77L54316 27L54316 2_7L_____________________5_____4____3____1_______6\n",
      "26H82738 26H52898 2_6H_______________________5___2___8____9________8\n",
      "96Q15910 96Q15110 9_6Q_______________________1___5____1____11______0\n",
      "31M79316 28M79316 28M______________________7____9___3_____1________6\n",
      "99L25299 99L25399 9_9L____________________22___5_____3____99_______9\n",
      "32Q21668 32Y28668 3_2Y_______________________2____8___6____6_______8\n",
      "28Y75122 49Y37577 4_9Y____________________3___7____5___7___________7\n",
      "26T74116 26Y74116 2_6Y____________________7____4____11____11_______6\n",
      "51J71299 51M71299 5_1M______________________7____11___2____99______9\n",
      "42N83824 42N83834 4_2N_____________________8____3____8____3________4\n",
      "37L88988 3L88911 3_LL______________________8____8___9____1________1\n",
      "48Q44964 48Q44966 48QQ______________________4_____4____9____6______6\n",
      "95Y92610 95Y93610 95Y_______________________9___3____6_____1_______0\n",
      "82D85636 87D85626 87D_______________________8___5____6____2________6\n",
      "83J45956 83J45955 83J_________________________4____5____9___55_____5\n",
      "28L64888 38L64888 38L________________________6___44__88___8________8\n",
      "22Q88488 22Q88458 2_2Q_____________________8____8____4____5________8\n",
      "79Q31422 69Q31422 6_9Q_______________________3_____1___4____2______2\n",
      "25V42142 95D92142 95D______________________9___2____11___4_________2\n",
      "66V67724 46V67720 466V____________________6____7____7____22________0\n",
      "81B58410 92B658410 92B_________________6___5____8____4_____1________0\n",
      "17L26811 12B36811 122B______________________3___66____8____1_______1\n",
      "27Q71388 24V52847 2_4V___________________55____2___8_____4_________7\n",
      "67J69120 67J69128 677J___________________6___99___1____2___________8\n",
      "26B37210 36B37210 3_6B____________________3____7____2_____1________0\n",
      "98Q89410 78N82714 78N_____________________8___2___7___11___________4\n",
      "68J26798 61J26798 61J____________________22___6____7____99_________8\n",
      "15Y86155 16Y86155 16Y______________________8___66____1____5________5\n",
      "39Y76288 39Y7638 3_9Y_____________________7___6____3______________8\n",
      "69D96877 69D93877 6_9D_______________________9___3____8____7_______7\n",
      "83S64899 79S64862 7_9S________________________6____4___8____6______2\n",
      "48M49822 48M21822 48M________________________2____1___8____2_______2\n",
      "53J95510 293J95510 293J___________________9___55___55_____11________0\n",
      "15V77136 16V77136 16VV_____________________77____7____1_____3______6\n",
      "88L84188 88N84188 8_8N_____________________8____4____1____8________8\n",
      "42J64116 42J64110 4_2J____________________6_____4____1_____1_______0\n",
      "65J74216 65J74316 65J______________________7____4____3____1________6\n",
      "36D96327 36D96227 3_6D_____________________9____6____2_____2_______7\n",
      "31T74222 31H74222 31H_______________________7___44___2____2________2\n",
      "27H15511 37H15511 3_7H________________________1___5____5____1______1\n",
      "97V34399 97H34355 9_7H________________________33___4___3___5_______5\n",
      "83N22110 82N22110 82N______________________2___2_____1____11_______0\n",
      "58O77219 58J77219 558J_______________________7___77___2___1________9\n",
      "22D27474 77D27774 7_7D_____________________22___7___7____7_________4\n",
      "11D14444 81D14444 8_1D______________________11___4____4____4_______4\n",
      "52B86320 14B8680 1_4B_____________________8___6____8______________0\n",
      "66L92122 66L93130 6_6L_____________________9____3___1____3_________0\n",
      "84H51622 7H51744 77HH______________________5____1___7____4________4\n",
      "18N81777 95Y77466 95Y________________________7___7____4____6_______6\n",
      "13A53298 12A44211 12AA____________________4____4___22___1__________1\n",
      "61B11935 61B11938 61B_______________________1____1____9____33______8\n",
      "21O58511 21T58518 21T______________________5____8___5_____1________8\n",
      "19Q77444 39Q67444 39Q_____________________6____7____4_____4________4\n",
      "94H22466 14H22466 14HH_____________________2___2___4____6__________6\n",
      "22O22978 22O23978 2_2O_____________________2____3_____9____7_______8\n",
      "28D65699 25D65699 25D_____________________6____5____6_____99_______9\n",
      "18N81777 41Y9446 41Y______________________9___4____4______________6\n",
      "62L22422 63L22428 6_3L___________________2___2___4___2_____________8\n",
      "77Q18634 77Q15634 7_7Q_____________________1___5_____6_____3_______4\n",
      "31V76922 39V76922 399V______________________7___6____99____2_______2\n",
      "97S42453 97S42483 9_7S_____________________4___2____4_____8________3\n",
      "29L68766 29L68266 2_9L______________________6____8____2____6_______6\n",
      "16L81577 175L81884 175L_______________________8___1___8___8_________4\n",
      "44H15820 14H15820 1_4H______________________1___5____88____2_______0\n",
      "73L47710 83L47710 83LL_____________________4____7____7_____1_______0\n",
      "63L72816 62L72816 6_2L______________________7___2____8_____1_______6\n",
      "98B92455 98B92458 98BB____________________99___2____4_____5________8\n",
      "28Q88810 38Q88810 38Q_____________________8____8____8______1_______0\n",
      "62T79733 67T79732 6_7T_______________________7____9___77____3______2\n",
      "96D89811 47D827810 4_7D_____________________8___27__8____1__________0\n",
      "32V37499 32V3749 3_2V_____________________3____7____4_____________9\n",
      "99L63621 99L62621 9_9L____________________6____2____6_____2________1\n",
      "63N38411 42Q4499 4_2Q____________________4_________4_____9________9\n",
      "56B22555 56B228566 56B____________________2___2____8____5___6_______6\n",
      "86B86416 16B86416 16B_______________________8___66___4_____11______6\n",
      "84L13116 84L12116 84L____________________1___2_____1____1__________6\n",
      "61L63299 69L63299 69L_______________________6_____3___22____9______9\n",
      "17Q56999 87Q56999 87QQ___________________5____66____99____99_______9\n",
      "17Y61110 17Y61111 17YY_______________________66____1____1___11_____1\n",
      "28N79855 78N79855 78N______________________7__99___8_____5_________5\n",
      "66L39516 64L29516 6_4L___________________2____9____5_____1_________6\n",
      "66J71242 66J71243 6_6J_______________________7_____1___2____4______3\n",
      "34M78516 24M78516 2_4M____________________77____8___5____1_________6\n",
      "91N78710 91Q78710 9_1Q______________________7____8____7____11______0\n",
      "54J85538 54J85531 54J_______________________8___55___5_____3_______1\n",
      "91M39944 21M346722 21MM____________________3____4___66___72_________2\n",
      "13T21322 11S71444 1_1S___________________7___1___4____4____________4\n",
      "73J67333 32J67333 3_2J__________________6_____7_____3_____3________3\n",
      "45O14522 45O13522 45O______________________1___3___55____2_________2\n",
      "88Q82410 88N83410 8_8N_____________________8____3____4____11_______0\n",
      "14A12622 14A12781 14AA____________________1___2___7____8___________1\n",
      "84N39799 83L39799 8_3L___________________3___99___7_____9__________9\n",
      "15J61620 15J61677 155J_____________________66____1___6_____7_______7\n",
      "44H66522 41H24572 41H____________________2___4_____5____7__________2\n",
      "83J45956 83J459855 83J_______________________4___55___9____85_______5\n",
      "89Q42112 52Q42112 52QQ____________________4____2___11_____1________2\n",
      "66B99599 66B99592 6_6B_____________________99____9___55____9_______2\n",
      "44V83721 64V73747 6_4V_____________________7____3____7____4________7\n",
      "44B67677 42O67499 4_2O_____________________666___7___4___9_________9\n",
      "19A36322 12A36939 12AA_________________3____6____9____3____________9\n",
      "43V85438 44V75338 4_4V_____________________7____5___3____33________8\n",
      "51V91588 91V91578 91VV___________________99___1___5____7___________8\n",
      "17B34620 17B33620 17B________________________3___3___6____2________0\n",
      "17B76916 42M64116 4_2M_____________________6____4____1____1________6\n",
      "68Y72763 68Y72764 68Y______________________77___2____7____6________4\n",
      "58O25578 58J35528 5_8J_____________________3___5____55____2________8\n",
      "92S79616 9S79616 9_SS______________________7____9___6____11_______6\n",
      "22M72244 42M72244 4_2M_____________________7___2_____2_____4_______4\n",
      "61O47642 61J47642 61J_____________________4____7____6_____4________2\n",
      "99D53720 99N53728 9_9N______________________5____3___7____2________8\n",
      "45Y86199 35Q86199 35Q____________________8____6_____1_____9________9\n",
      "14S23620 14S22620 14S_____________________2____2___6_____2_________0\n",
      "27V74955 37V74955 3_7V_______________________77___4____9___5_______5\n",
      "38B72799 38B72299 38B____________________7___2____2____9___________9\n",
      "69L49310 49L9312 499L______________________9___3___1______________2\n",
      "12Y15666 923Y15666 923Y_______________________1___5___6____6________6\n",
      "41T89922 41T89977 41T______________________8_____9___9____7________7\n",
      "66N68436 62N68436 6_2N_____________________6____88___4_____3_______6\n",
      "44L44128 44L44178 4_4L____________________4____4___1_____7_________8\n",
      "57J29967 52J29967 52J______________________2____9____9____66_______7\n",
      "44S17312 44S17314 4_4S_____________________1___77___3_____11_______4\n",
      "49L76716 95M98116 95MM______________________9____8____1_____1______6\n",
      "29V76521 29V76529 2_9V_____________________77___6____5_____2_______9\n",
      "96D33677 76D33677 766D_________________3____3____66_____77_________7\n",
      "25D22566 31B491994 31B____________________4___9___1___9___9_________4\n",
      "48B97143 75B77775 75B________________________7___7____7____7_______5\n",
      "84O23512 74J23512 744J____________________2____3____5____11________2\n",
      "73V89416 23V89416 2_3V_____________________8____99___4____11_______6\n",
      "44M12322 44M12372 4_4M___________________1___2____3____7___________2\n",
      "69B47910 69B47710 6_9B____________________4____77___7____1_________0\n",
      "73M11277 72M11277 7_2M_______________________11___1___2____7_______7\n",
      "42Y15899 43Y15899 4_3Y______________________11___5____8____9_______9\n",
      "96V21933 96Q21933 966Q_______________________2____1____9___3_______3\n",
      "47B77920 7B22920 7_BB_________________2___2____9_____2____________0\n",
      "27V64943 27V64944 2_7V___________________6____4___99______4________4\n",
      "55J28198 51J35822 51JJ____________________3____5_____8_____2_______2\n",
      "62D75499 62D75410 6_2D________________________7___55___4____1______0\n",
      "26Y77268 36Y77268 3_6Y____________________7____7____2_____6________8\n",
      "62M25666 62M35666 6_2M____________________3___55__6____6___________6\n",
      "78Q22411 78Q26411 78QQ______________________2____6____4_____1______1\n",
      "16S66463 16S66464 16S______________________6____6____4____6________4\n",
      "13D12393 13D123193 13DD______________________1___2____3____19_______3\n",
      "85Q62713 85N62713 8_5N___________________66____2____7_____1________3\n",
      "91H74299 41H7422 41H__________________________7___44___2__________2\n",
      "23J51636 62M651624 6_2M________________________65___11___6____2_____4\n",
      "27D95510 27V4552 2_7V______________________4____5____5____________2\n",
      "15H46744 15H26244 15H_______________________2___6____2____4________4\n",
      "56Q64255 56Q64358 56QQ________________________6____4____3___5______8\n",
      "62V78153 67V78152 6_7V____________________7____8____1____5_________2\n",
      "37H27542 37H27522 3_7H______________________2____7___55____2_______2\n",
      "36M29516 36M2956 3_6M______________________2____9___55____________6\n",
      "67N18711 67L18715 6_7L____________________11__8____7____1__________5\n",
      "23S86995 23S86998 2_3S____________________8____6___99____99________8\n",
      "72J34520 72J34529 7_2J___________________3___4____5____2___________9\n",
      "45Q12173 45N12173 45N________________________1____2____1____7______3\n",
      "17H84838 12H84830 1_2HH_____________________8___4____8____3________0\n",
      "57D61755 57D61758 57D______________________66____1____7____5_______8\n",
      "66D57988 55L62275 5_5L_____________________6____2___2______7_______5\n",
      "84M57388 54M57388 54MM_________________________5____7___3___8______8\n",
      "48V84712 48V84713 48V_____________________8____4____77____11_______3\n",
      "49N51411 29N51411 2_9N_____________________5___1___4____1__________1\n",
      "77S71178 67S71170 67SS__________________7___1___1___7______________0\n",
      "28L86110 28L16110 28L______________________1___6____1____1_________0\n",
      "99N21233 99N21232 9_9N___________________2____1__2_____3___________2\n",
      "69B58457 69B58655 6_9B____________________55___88___6___55_________5\n",
      "24N57388 44N57211 4_4N______________________55____7___2_____1______1\n",
      "92B12956 12B12966 12BB_____________________1___22___9____6_________6\n",
      "99B22388 91B22388 91BB____________________2____2____3_____8________8\n",
      "57D62822 77N63823 7_7N______________________6____3___88___2________3\n",
      "99Y42611 99Y42610 9_9Y______________________44__2___6___11_________0\n",
      "62B43596 62B42596 6_2B_____________________4___2____5_____9________6\n",
      "41T86214 41T82214 41T______________________88____2____2_____1______4\n",
      "16D46477 96D46427 96DD______________________4___6____4_____2_______7\n",
      "15H65299 95H65299 95HH___________________66____5___22____9_________9\n",
      "45S34616 65S34616 65SS____________________33___44___6_____11_______6\n",
      "32S53853 32S52853 3_2S_____________________5____2___88____5________3\n",
      "49B22220 49B22221 4_9B_____________________2___2____2____2_________1\n",
      "26B25266 26D78766 2_6D____________________7___88___7_____6_________6\n",
      "92B25120 93B25120 9_3B_____________________2___55___1_____2________0\n",
      "99H15638 1H15638 1_HH_________________1____5____6______3__________8\n",
      "71M23833 81B23833 811B___________________2_____3____8_____3________3\n",
      "27T62216 37T62216 3_7T______________________6____2____2____1_______6\n",
      "85H95663 75H96264 75HH_____________________9____6____2____6________4\n",
      "14B34963 12B14963 12BB_____________________1____4____9____6________3\n",
      "64Y73366 69Q73266 6_9Q______________________7___3___2____66________6\n",
      "33M31216 32M31216 3_2M______________________3____1___2_____1_______6\n",
      "12H99474 13H99474 13HH____________________99___99___4_____7________4\n",
      "39Q25193 319Q25193 319Q____________________2___5____11____9_________3\n",
      "81J36599 88J26591 8_8J_____________________2___6____55____9________1\n",
      "62H99199 48Y54410 4_8Y__________________5_____44___4____1__________0\n",
      "85Y72688 85Y72684 8_5Y___________________77__2__6___88_____________4\n",
      "22B98797 77B98797 7_7B____________________9____8____7_____99_______7\n",
      "44N23988 44N2398 4_4N_______________________2____3___99___________8\n",
      "55V41255 58V4175 5_8V________________________4_____1___7__________5\n",
      "96B81899 16B81899 166B_______________________8____1___8____9_______9\n",
      "31J47789 41Y42789 41Y______________________4___22___7___8__________9\n",
      "15D95524 15D15524 155D_____________________1___55___5____2_________4\n",
      "24H14510 76H14526 7_6H___________________1__4___5____2_____________6\n",
      "wrong count =  405\n",
      "total =  2058\n"
     ]
    }
   ],
   "source": [
    "wrong_count = 0\n",
    "total = 0\n",
    "for data, label in val_data:\n",
    "    total += 1\n",
    "    l_str = label_to_str1(label)\n",
    "    # p_str = predict(data, strategy='8')\n",
    "    o_str, o_seq = predict(data)\n",
    "    \n",
    "\n",
    "    if l_str != o_str:\n",
    "        print(l_str, o_str, o_seq)\n",
    "        wrong_count+=1\n",
    "print(\"wrong count = \", wrong_count)\n",
    "print(\"total = \", total)"
   ]
  },
  {
   "cell_type": "code",
   "execution_count": 24,
   "metadata": {},
   "outputs": [],
   "source": [
    "def test_model_on_validation(model, val_dataset, classes, device):\n",
    "    \"\"\"\n",
    "    Evaluate the model on the validation dataset and print results.\n",
    "    \n",
    "    Args:\n",
    "        model: Trained PyTorch model.\n",
    "        val_dataset: Validation dataset.\n",
    "        classes: List of character classes (for decoding).\n",
    "        device: Device to run inference on (CPU/GPU).\n",
    "    \"\"\"\n",
    "    model.eval()\n",
    "    correct = 0\n",
    "    total = 0\n",
    "    raw_predictions = []\n",
    "    decoded_predictions = []\n",
    "    actual_labels = []\n",
    "\n",
    "    with torch.no_grad():\n",
    "        for i, (data, labels) in enumerate(val_dataset):\n",
    "            data, labels = data.to(device), labels.to(device)\n",
    "            outputs = model(data)  # Shape: (T, N, C)\n",
    "            outputs = outputs.permute(1, 0, 2)  # Reshape to (N, T, C)\n",
    "            \n",
    "            # Decode predictions using greedy decoding\n",
    "            predictions = outputs.argmax(dim=-1).cpu().numpy()  # (N, T)\n",
    "            raw_predictions.append(predictions)\n",
    "\n",
    "            # Decode predictions to strings\n",
    "            decoded_preds = []\n",
    "            for pred in predictions:\n",
    "                decoded_str = ''.join([classes[c - 1] if c != 0 else '_' for c in pred])\n",
    "                decoded_str = ''.join(ch for i, ch in enumerate(decoded_str) if ch != '_' and (i == 0 or ch != decoded_str[i-1]))\n",
    "                decoded_preds.append(decoded_str)\n",
    "            decoded_predictions.extend(decoded_preds)\n",
    "\n",
    "            # Decode actual labels to strings\n",
    "            decoded_labels = []\n",
    "            for label in labels.cpu().numpy():\n",
    "                decoded_labels.append(''.join([classes[c - 1] if c != 0 else '_' for c in label]))\n",
    "            actual_labels.extend(decoded_labels)\n",
    "\n",
    "            # Count correct predictions\n",
    "            for pred, actual in zip(decoded_preds, decoded_labels):\n",
    "                if pred == actual:\n",
    "                    correct += 1\n",
    "                total += 1\n",
    "\n",
    "    accuracy = correct / total * 100\n",
    "    print(f\"Validation Accuracy: {accuracy:.2f}%\")\n",
    "    return decoded_predictions, actual_labels, raw_predictions\n"
   ]
  },
  {
   "cell_type": "code",
   "execution_count": 25,
   "metadata": {},
   "outputs": [
    {
     "name": "stdout",
     "output_type": "stream",
     "text": [
      "Validation Accuracy: 80.19%\n"
     ]
    }
   ],
   "source": [
    "\n",
    "decoded_preds, actual_labels, raw_preds = test_model_on_validation(model, val_dataloader, training_data.classes, gpu)"
   ]
  },
  {
   "cell_type": "code",
   "execution_count": null,
   "metadata": {},
   "outputs": [],
   "source": []
  },
  {
   "cell_type": "code",
   "execution_count": null,
   "metadata": {},
   "outputs": [],
   "source": []
  },
  {
   "cell_type": "code",
   "execution_count": null,
   "metadata": {},
   "outputs": [],
   "source": []
  },
  {
   "cell_type": "code",
   "execution_count": null,
   "metadata": {},
   "outputs": [],
   "source": []
  },
  {
   "cell_type": "code",
   "execution_count": null,
   "metadata": {},
   "outputs": [],
   "source": []
  },
  {
   "cell_type": "code",
   "execution_count": null,
   "metadata": {},
   "outputs": [],
   "source": []
  },
  {
   "cell_type": "code",
   "execution_count": null,
   "metadata": {},
   "outputs": [],
   "source": []
  },
  {
   "cell_type": "code",
   "execution_count": null,
   "metadata": {},
   "outputs": [],
   "source": []
  },
  {
   "cell_type": "code",
   "execution_count": null,
   "metadata": {},
   "outputs": [],
   "source": []
  },
  {
   "cell_type": "code",
   "execution_count": null,
   "metadata": {},
   "outputs": [],
   "source": []
  },
  {
   "cell_type": "code",
   "execution_count": null,
   "metadata": {},
   "outputs": [],
   "source": []
  },
  {
   "cell_type": "code",
   "execution_count": null,
   "metadata": {},
   "outputs": [],
   "source": []
  }
 ],
 "metadata": {
  "kernelspec": {
   "display_name": "new_venv",
   "language": "python",
   "name": "python3"
  },
  "language_info": {
   "codemirror_mode": {
    "name": "ipython",
    "version": 3
   },
   "file_extension": ".py",
   "mimetype": "text/x-python",
   "name": "python",
   "nbconvert_exporter": "python",
   "pygments_lexer": "ipython3",
   "version": "3.12.3"
  }
 },
 "nbformat": 4,
 "nbformat_minor": 2
}
